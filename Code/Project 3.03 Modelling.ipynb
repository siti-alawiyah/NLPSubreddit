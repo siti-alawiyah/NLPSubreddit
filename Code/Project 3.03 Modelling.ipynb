{
 "cells": [
  {
   "cell_type": "markdown",
   "id": "7a46dc06",
   "metadata": {},
   "source": [
    "<img src=\"http://imgur.com/1ZcRyrc.png\" style=\"float: left; margin: 20px; height: 55px\">\n",
    "\n",
    "# Project 3: Scraping, NLP and Binary Classification Problem"
   ]
  },
  {
   "cell_type": "markdown",
   "id": "b6f27851",
   "metadata": {},
   "source": [
    "# Objective of the project:\n",
    "    \n",
    "* Use Pushshift API to collect 2 subreddits category: makeup and fragrance\n",
    "* Use NLP to train a classifier on which subreddit a post has been given to\n",
    "\n",
    "In this notebook, I will be doing the modelling part of the project. I will be trying 3 models:\n",
    "\n",
    "* RandomForestClassifier\n",
    "* GradientBoostingClassifier\n",
    "* Naive Bayes"
   ]
  },
  {
   "cell_type": "code",
   "execution_count": 1,
   "id": "15a7b6a2",
   "metadata": {},
   "outputs": [],
   "source": [
    "#importing libraries\n",
    "import pandas as pd\n",
    "import matplotlib.pyplot as plt\n",
    "import numpy as np\n",
    "import seaborn as sns\n",
    "import matplotlib.pyplot as plt\n",
    "import re\n",
    "\n",
    "from sklearn.model_selection import train_test_split,cross_val_score, GridSearchCV, RandomizedSearchCV\n",
    "from sklearn.pipeline import Pipeline\n",
    "from sklearn.naive_bayes import MultinomialNB\n",
    "from sklearn.metrics import confusion_matrix, plot_confusion_matrix, make_scorer, accuracy_score, classification_report,f1_score,precision_score,recall_score\n",
    "from sklearn.ensemble import RandomForestClassifier, GradientBoostingClassifier\n",
    "from sklearn.feature_extraction.text import CountVectorizer, TfidfVectorizer\n",
    "from nltk.tokenize import sent_tokenize, word_tokenize, RegexpTokenizer\n",
    "from nltk.stem import WordNetLemmatizer\n",
    "from nltk.stem.porter import PorterStemmer\n",
    "from nltk.corpus import stopwords \n",
    "pd.options.mode.chained_assignment = None "
   ]
  },
  {
   "cell_type": "markdown",
   "id": "2be5e793",
   "metadata": {},
   "source": [
    "# Makeup Subreddit"
   ]
  },
  {
   "cell_type": "code",
   "execution_count": 2,
   "id": "3f940825",
   "metadata": {},
   "outputs": [],
   "source": [
    "#read makeup csv\n",
    "df_mkup = pd.read_csv('mkup.csv')"
   ]
  },
  {
   "cell_type": "code",
   "execution_count": 3,
   "id": "476696c0",
   "metadata": {},
   "outputs": [
    {
     "data": {
      "text/html": [
       "<div>\n",
       "<style scoped>\n",
       "    .dataframe tbody tr th:only-of-type {\n",
       "        vertical-align: middle;\n",
       "    }\n",
       "\n",
       "    .dataframe tbody tr th {\n",
       "        vertical-align: top;\n",
       "    }\n",
       "\n",
       "    .dataframe thead th {\n",
       "        text-align: right;\n",
       "    }\n",
       "</style>\n",
       "<table border=\"1\" class=\"dataframe\">\n",
       "  <thead>\n",
       "    <tr style=\"text-align: right;\">\n",
       "      <th></th>\n",
       "      <th>subreddit</th>\n",
       "      <th>lem</th>\n",
       "    </tr>\n",
       "  </thead>\n",
       "  <tbody>\n",
       "    <tr>\n",
       "      <th>0</th>\n",
       "      <td>Makeup</td>\n",
       "      <td>gel eyeliner get really messyhey fairly new to...</td>\n",
       "    </tr>\n",
       "    <tr>\n",
       "      <th>1</th>\n",
       "      <td>Makeup</td>\n",
       "      <td>which is the best brand for makeup kit removed</td>\n",
       "    </tr>\n",
       "    <tr>\n",
       "      <th>2</th>\n",
       "      <td>Makeup</td>\n",
       "      <td>colorfix has anybody tried danessa myricks col...</td>\n",
       "    </tr>\n",
       "    <tr>\n",
       "      <th>3</th>\n",
       "      <td>Makeup</td>\n",
       "      <td>are all micellar water product the same how do...</td>\n",
       "    </tr>\n",
       "    <tr>\n",
       "      <th>4</th>\n",
       "      <td>Makeup</td>\n",
       "      <td>first impression reviews pictures are availabl...</td>\n",
       "    </tr>\n",
       "  </tbody>\n",
       "</table>\n",
       "</div>"
      ],
      "text/plain": [
       "  subreddit                                                lem\n",
       "0    Makeup  gel eyeliner get really messyhey fairly new to...\n",
       "1    Makeup     which is the best brand for makeup kit removed\n",
       "2    Makeup  colorfix has anybody tried danessa myricks col...\n",
       "3    Makeup  are all micellar water product the same how do...\n",
       "4    Makeup  first impression reviews pictures are availabl..."
      ]
     },
     "execution_count": 3,
     "metadata": {},
     "output_type": "execute_result"
    }
   ],
   "source": [
    "#checking new df_mkup\n",
    "df_mkup.head()"
   ]
  },
  {
   "cell_type": "code",
   "execution_count": 4,
   "id": "ea9742b4",
   "metadata": {},
   "outputs": [
    {
     "name": "stdout",
     "output_type": "stream",
     "text": [
      "<class 'pandas.core.frame.DataFrame'>\n",
      "RangeIndex: 1038 entries, 0 to 1037\n",
      "Data columns (total 2 columns):\n",
      " #   Column     Non-Null Count  Dtype \n",
      "---  ------     --------------  ----- \n",
      " 0   subreddit  1038 non-null   object\n",
      " 1   lem        1038 non-null   object\n",
      "dtypes: object(2)\n",
      "memory usage: 16.3+ KB\n"
     ]
    }
   ],
   "source": [
    "#checking number of rows total after dropping\n",
    "df_mkup.info()"
   ]
  },
  {
   "cell_type": "code",
   "execution_count": 5,
   "id": "3e77c3cb",
   "metadata": {},
   "outputs": [],
   "source": [
    "df_mkup.rename(columns={'lem': 'message'}, inplace=True)"
   ]
  },
  {
   "cell_type": "code",
   "execution_count": 6,
   "id": "0df75d04",
   "metadata": {},
   "outputs": [
    {
     "data": {
      "text/html": [
       "<div>\n",
       "<style scoped>\n",
       "    .dataframe tbody tr th:only-of-type {\n",
       "        vertical-align: middle;\n",
       "    }\n",
       "\n",
       "    .dataframe tbody tr th {\n",
       "        vertical-align: top;\n",
       "    }\n",
       "\n",
       "    .dataframe thead th {\n",
       "        text-align: right;\n",
       "    }\n",
       "</style>\n",
       "<table border=\"1\" class=\"dataframe\">\n",
       "  <thead>\n",
       "    <tr style=\"text-align: right;\">\n",
       "      <th></th>\n",
       "      <th>subreddit</th>\n",
       "      <th>message</th>\n",
       "    </tr>\n",
       "  </thead>\n",
       "  <tbody>\n",
       "    <tr>\n",
       "      <th>0</th>\n",
       "      <td>Makeup</td>\n",
       "      <td>gel eyeliner get really messyhey fairly new to...</td>\n",
       "    </tr>\n",
       "    <tr>\n",
       "      <th>1</th>\n",
       "      <td>Makeup</td>\n",
       "      <td>which is the best brand for makeup kit removed</td>\n",
       "    </tr>\n",
       "    <tr>\n",
       "      <th>2</th>\n",
       "      <td>Makeup</td>\n",
       "      <td>colorfix has anybody tried danessa myricks col...</td>\n",
       "    </tr>\n",
       "    <tr>\n",
       "      <th>3</th>\n",
       "      <td>Makeup</td>\n",
       "      <td>are all micellar water product the same how do...</td>\n",
       "    </tr>\n",
       "    <tr>\n",
       "      <th>4</th>\n",
       "      <td>Makeup</td>\n",
       "      <td>first impression reviews pictures are availabl...</td>\n",
       "    </tr>\n",
       "  </tbody>\n",
       "</table>\n",
       "</div>"
      ],
      "text/plain": [
       "  subreddit                                            message\n",
       "0    Makeup  gel eyeliner get really messyhey fairly new to...\n",
       "1    Makeup     which is the best brand for makeup kit removed\n",
       "2    Makeup  colorfix has anybody tried danessa myricks col...\n",
       "3    Makeup  are all micellar water product the same how do...\n",
       "4    Makeup  first impression reviews pictures are availabl..."
      ]
     },
     "execution_count": 6,
     "metadata": {},
     "output_type": "execute_result"
    }
   ],
   "source": [
    "df_mkup.head()"
   ]
  },
  {
   "cell_type": "markdown",
   "id": "25140654",
   "metadata": {},
   "source": [
    "# Fragrance Subreddit"
   ]
  },
  {
   "cell_type": "code",
   "execution_count": 7,
   "id": "6eeb355d",
   "metadata": {},
   "outputs": [],
   "source": [
    "#read fragrance csv\n",
    "df_frag = pd.read_csv('frag.csv')"
   ]
  },
  {
   "cell_type": "code",
   "execution_count": 8,
   "id": "a2f4dfb1",
   "metadata": {},
   "outputs": [
    {
     "data": {
      "text/html": [
       "<div>\n",
       "<style scoped>\n",
       "    .dataframe tbody tr th:only-of-type {\n",
       "        vertical-align: middle;\n",
       "    }\n",
       "\n",
       "    .dataframe tbody tr th {\n",
       "        vertical-align: top;\n",
       "    }\n",
       "\n",
       "    .dataframe thead th {\n",
       "        text-align: right;\n",
       "    }\n",
       "</style>\n",
       "<table border=\"1\" class=\"dataframe\">\n",
       "  <thead>\n",
       "    <tr style=\"text-align: right;\">\n",
       "      <th></th>\n",
       "      <th>subreddit</th>\n",
       "      <th>lem</th>\n",
       "    </tr>\n",
       "  </thead>\n",
       "  <tbody>\n",
       "    <tr>\n",
       "      <th>0</th>\n",
       "      <td>fragrance</td>\n",
       "      <td>valentino uomo intense edphow many spray of th...</td>\n",
       "    </tr>\n",
       "    <tr>\n",
       "      <th>1</th>\n",
       "      <td>fragrance</td>\n",
       "      <td>drybar noir scent am obsessed with the smell o...</td>\n",
       "    </tr>\n",
       "    <tr>\n",
       "      <th>2</th>\n",
       "      <td>fragrance</td>\n",
       "      <td>what longevity do you expect from your perfume...</td>\n",
       "    </tr>\n",
       "    <tr>\n",
       "      <th>3</th>\n",
       "      <td>fragrance</td>\n",
       "      <td>perfume reccomendations removed</td>\n",
       "    </tr>\n",
       "    <tr>\n",
       "      <th>4</th>\n",
       "      <td>fragrance</td>\n",
       "      <td>fragrance wardrobe 36f removed</td>\n",
       "    </tr>\n",
       "  </tbody>\n",
       "</table>\n",
       "</div>"
      ],
      "text/plain": [
       "   subreddit                                                lem\n",
       "0  fragrance  valentino uomo intense edphow many spray of th...\n",
       "1  fragrance  drybar noir scent am obsessed with the smell o...\n",
       "2  fragrance  what longevity do you expect from your perfume...\n",
       "3  fragrance                    perfume reccomendations removed\n",
       "4  fragrance                     fragrance wardrobe 36f removed"
      ]
     },
     "execution_count": 8,
     "metadata": {},
     "output_type": "execute_result"
    }
   ],
   "source": [
    "df_frag.head()"
   ]
  },
  {
   "cell_type": "code",
   "execution_count": 9,
   "id": "7ec1e969",
   "metadata": {},
   "outputs": [
    {
     "name": "stdout",
     "output_type": "stream",
     "text": [
      "<class 'pandas.core.frame.DataFrame'>\n",
      "RangeIndex: 1086 entries, 0 to 1085\n",
      "Data columns (total 2 columns):\n",
      " #   Column     Non-Null Count  Dtype \n",
      "---  ------     --------------  ----- \n",
      " 0   subreddit  1086 non-null   object\n",
      " 1   lem        1086 non-null   object\n",
      "dtypes: object(2)\n",
      "memory usage: 17.1+ KB\n"
     ]
    }
   ],
   "source": [
    "#checking number of rows after dropping\n",
    "df_frag.info()"
   ]
  },
  {
   "cell_type": "code",
   "execution_count": 10,
   "id": "8e9af5a7",
   "metadata": {},
   "outputs": [
    {
     "data": {
      "text/plain": [
       "subreddit    0\n",
       "lem          0\n",
       "dtype: int64"
      ]
     },
     "execution_count": 10,
     "metadata": {},
     "output_type": "execute_result"
    }
   ],
   "source": [
    "df_frag.isnull().sum()"
   ]
  },
  {
   "cell_type": "code",
   "execution_count": 11,
   "id": "9c32da80",
   "metadata": {},
   "outputs": [],
   "source": [
    "df_frag.rename(columns={'lem': 'message'}, inplace=True)"
   ]
  },
  {
   "cell_type": "markdown",
   "id": "8135dbcd",
   "metadata": {},
   "source": [
    "# Combined 2 dataframes"
   ]
  },
  {
   "cell_type": "code",
   "execution_count": 12,
   "id": "f1290154",
   "metadata": {},
   "outputs": [],
   "source": [
    "#combining the 2 dataframes together into 1 datatframe called df\n",
    "frames = [df_frag, df_mkup]\n",
    "df = pd.concat(frames)"
   ]
  },
  {
   "cell_type": "code",
   "execution_count": 13,
   "id": "ccd28684",
   "metadata": {},
   "outputs": [
    {
     "data": {
      "text/html": [
       "<div>\n",
       "<style scoped>\n",
       "    .dataframe tbody tr th:only-of-type {\n",
       "        vertical-align: middle;\n",
       "    }\n",
       "\n",
       "    .dataframe tbody tr th {\n",
       "        vertical-align: top;\n",
       "    }\n",
       "\n",
       "    .dataframe thead th {\n",
       "        text-align: right;\n",
       "    }\n",
       "</style>\n",
       "<table border=\"1\" class=\"dataframe\">\n",
       "  <thead>\n",
       "    <tr style=\"text-align: right;\">\n",
       "      <th></th>\n",
       "      <th>subreddit</th>\n",
       "      <th>message</th>\n",
       "    </tr>\n",
       "  </thead>\n",
       "  <tbody>\n",
       "    <tr>\n",
       "      <th>0</th>\n",
       "      <td>fragrance</td>\n",
       "      <td>valentino uomo intense edphow many spray of th...</td>\n",
       "    </tr>\n",
       "    <tr>\n",
       "      <th>1</th>\n",
       "      <td>fragrance</td>\n",
       "      <td>drybar noir scent am obsessed with the smell o...</td>\n",
       "    </tr>\n",
       "    <tr>\n",
       "      <th>2</th>\n",
       "      <td>fragrance</td>\n",
       "      <td>what longevity do you expect from your perfume...</td>\n",
       "    </tr>\n",
       "    <tr>\n",
       "      <th>3</th>\n",
       "      <td>fragrance</td>\n",
       "      <td>perfume reccomendations removed</td>\n",
       "    </tr>\n",
       "    <tr>\n",
       "      <th>4</th>\n",
       "      <td>fragrance</td>\n",
       "      <td>fragrance wardrobe 36f removed</td>\n",
       "    </tr>\n",
       "  </tbody>\n",
       "</table>\n",
       "</div>"
      ],
      "text/plain": [
       "   subreddit                                            message\n",
       "0  fragrance  valentino uomo intense edphow many spray of th...\n",
       "1  fragrance  drybar noir scent am obsessed with the smell o...\n",
       "2  fragrance  what longevity do you expect from your perfume...\n",
       "3  fragrance                    perfume reccomendations removed\n",
       "4  fragrance                     fragrance wardrobe 36f removed"
      ]
     },
     "execution_count": 13,
     "metadata": {},
     "output_type": "execute_result"
    }
   ],
   "source": [
    "#checking 1st 5 rows of df\n",
    "df.head()"
   ]
  },
  {
   "cell_type": "code",
   "execution_count": 14,
   "id": "76cdbcaa",
   "metadata": {},
   "outputs": [
    {
     "data": {
      "text/html": [
       "<div>\n",
       "<style scoped>\n",
       "    .dataframe tbody tr th:only-of-type {\n",
       "        vertical-align: middle;\n",
       "    }\n",
       "\n",
       "    .dataframe tbody tr th {\n",
       "        vertical-align: top;\n",
       "    }\n",
       "\n",
       "    .dataframe thead th {\n",
       "        text-align: right;\n",
       "    }\n",
       "</style>\n",
       "<table border=\"1\" class=\"dataframe\">\n",
       "  <thead>\n",
       "    <tr style=\"text-align: right;\">\n",
       "      <th></th>\n",
       "      <th>subreddit</th>\n",
       "      <th>message</th>\n",
       "    </tr>\n",
       "  </thead>\n",
       "  <tbody>\n",
       "    <tr>\n",
       "      <th>1033</th>\n",
       "      <td>Makeup</td>\n",
       "      <td>priming moisturizer for combination oily skin ...</td>\n",
       "    </tr>\n",
       "    <tr>\n",
       "      <th>1034</th>\n",
       "      <td>Makeup</td>\n",
       "      <td>how can get that dewy look with foundation con...</td>\n",
       "    </tr>\n",
       "    <tr>\n",
       "      <th>1035</th>\n",
       "      <td>Makeup</td>\n",
       "      <td>how do you stop your face from getting all swe...</td>\n",
       "    </tr>\n",
       "    <tr>\n",
       "      <th>1036</th>\n",
       "      <td>Makeup</td>\n",
       "      <td>how do you get good at wing pretty new to make...</td>\n",
       "    </tr>\n",
       "    <tr>\n",
       "      <th>1037</th>\n",
       "      <td>Makeup</td>\n",
       "      <td>melt cosmetics liquid lipstick durability look...</td>\n",
       "    </tr>\n",
       "  </tbody>\n",
       "</table>\n",
       "</div>"
      ],
      "text/plain": [
       "     subreddit                                            message\n",
       "1033    Makeup  priming moisturizer for combination oily skin ...\n",
       "1034    Makeup  how can get that dewy look with foundation con...\n",
       "1035    Makeup  how do you stop your face from getting all swe...\n",
       "1036    Makeup  how do you get good at wing pretty new to make...\n",
       "1037    Makeup  melt cosmetics liquid lipstick durability look..."
      ]
     },
     "execution_count": 14,
     "metadata": {},
     "output_type": "execute_result"
    }
   ],
   "source": [
    "#checking last 5 rows of df\n",
    "df.tail()"
   ]
  },
  {
   "cell_type": "markdown",
   "id": "7b0b4288",
   "metadata": {},
   "source": [
    "# Preprocessing"
   ]
  },
  {
   "cell_type": "markdown",
   "id": "0e8cb98d",
   "metadata": {},
   "source": [
    "Creating a function called preprocess to do these if there are any:  \n",
    "\n",
    "1. Lowercase text  \n",
    "2. Remove whitespace  \n",
    "3. Remove numbers  \n",
    "4. Remove special characters  \n",
    "5. Remove emails  \n",
    "6. Remove stop words \n",
    "7. Remove additional stopwords:eg. fragrance and makeup to make it more difficult for prediction \n",
    "8. Remove NAN  \n",
    "9. Remove weblinks  \n",
    "10. Expand contractions (if possible not necessary)  \n",
    "11. Tokenize  "
   ]
  },
  {
   "cell_type": "code",
   "execution_count": 15,
   "id": "a49b7af2",
   "metadata": {},
   "outputs": [],
   "source": [
    "stemmer = PorterStemmer()\n",
    "lemmatizer = WordNetLemmatizer()"
   ]
  },
  {
   "cell_type": "code",
   "execution_count": 16,
   "id": "c573b40d",
   "metadata": {},
   "outputs": [],
   "source": [
    "def preprocess(message):\n",
    "    message=str(message)\n",
    "    message = message.lower()                      \n",
    "    message =message.replace('{html}',\"\")           \n",
    "    cleanr = re.compile('<.*?>')\n",
    "    cleantext = re.sub(cleanr, '', message)\n",
    "    rem_url=re.sub(r'http\\S+', '',cleantext)\n",
    "    rem_num = re.sub('[0-9]+', '', rem_url)\n",
    "    tokenizer = RegexpTokenizer(r'\\w+')\n",
    "    tokens = tokenizer.tokenize(rem_num)  \n",
    "    filtered_words = [w for w in tokens if len(w) > 2 if not w in stopwords.words('english')]\n",
    "    filtered_words = [w for w in filtered_words if len(w) > 2 if not w in ['makeup','fragrance','wa','ha','http','https','www','imgur','com','removed']]\n",
    "    lemma_words=[lemmatizer.lemmatize(w) for w in stem_words]\n",
    "    return \" \".join(filtered_words)"
   ]
  },
  {
   "cell_type": "code",
   "execution_count": 17,
   "id": "b599e237",
   "metadata": {},
   "outputs": [],
   "source": [
    "df['cleanmsg'] = df['message'].map(lambda s:preprocess(s)) "
   ]
  },
  {
   "cell_type": "code",
   "execution_count": 18,
   "id": "22cbb4cf",
   "metadata": {},
   "outputs": [
    {
     "data": {
      "text/html": [
       "<div>\n",
       "<style scoped>\n",
       "    .dataframe tbody tr th:only-of-type {\n",
       "        vertical-align: middle;\n",
       "    }\n",
       "\n",
       "    .dataframe tbody tr th {\n",
       "        vertical-align: top;\n",
       "    }\n",
       "\n",
       "    .dataframe thead th {\n",
       "        text-align: right;\n",
       "    }\n",
       "</style>\n",
       "<table border=\"1\" class=\"dataframe\">\n",
       "  <thead>\n",
       "    <tr style=\"text-align: right;\">\n",
       "      <th></th>\n",
       "      <th>subreddit</th>\n",
       "      <th>message</th>\n",
       "      <th>cleanmsg</th>\n",
       "    </tr>\n",
       "  </thead>\n",
       "  <tbody>\n",
       "    <tr>\n",
       "      <th>0</th>\n",
       "      <td>fragrance</td>\n",
       "      <td>valentino uomo intense edphow many spray of th...</td>\n",
       "      <td>valentino uomo intense edphow many spray use d...</td>\n",
       "    </tr>\n",
       "    <tr>\n",
       "      <th>1</th>\n",
       "      <td>fragrance</td>\n",
       "      <td>drybar noir scent am obsessed with the smell o...</td>\n",
       "      <td>drybar noir scent obsessed smell drybar hair p...</td>\n",
       "    </tr>\n",
       "    <tr>\n",
       "      <th>2</th>\n",
       "      <td>fragrance</td>\n",
       "      <td>what longevity do you expect from your perfume...</td>\n",
       "      <td>longevity expect perfume perfume best longevit...</td>\n",
       "    </tr>\n",
       "    <tr>\n",
       "      <th>3</th>\n",
       "      <td>fragrance</td>\n",
       "      <td>perfume reccomendations removed</td>\n",
       "      <td>perfume reccomendations</td>\n",
       "    </tr>\n",
       "    <tr>\n",
       "      <th>4</th>\n",
       "      <td>fragrance</td>\n",
       "      <td>fragrance wardrobe 36f removed</td>\n",
       "      <td>wardrobe</td>\n",
       "    </tr>\n",
       "  </tbody>\n",
       "</table>\n",
       "</div>"
      ],
      "text/plain": [
       "   subreddit                                            message  \\\n",
       "0  fragrance  valentino uomo intense edphow many spray of th...   \n",
       "1  fragrance  drybar noir scent am obsessed with the smell o...   \n",
       "2  fragrance  what longevity do you expect from your perfume...   \n",
       "3  fragrance                    perfume reccomendations removed   \n",
       "4  fragrance                     fragrance wardrobe 36f removed   \n",
       "\n",
       "                                            cleanmsg  \n",
       "0  valentino uomo intense edphow many spray use d...  \n",
       "1  drybar noir scent obsessed smell drybar hair p...  \n",
       "2  longevity expect perfume perfume best longevit...  \n",
       "3                            perfume reccomendations  \n",
       "4                                           wardrobe  "
      ]
     },
     "execution_count": 18,
     "metadata": {},
     "output_type": "execute_result"
    }
   ],
   "source": [
    "#checking first 5 rows after processing\n",
    "df.head()"
   ]
  },
  {
   "cell_type": "code",
   "execution_count": 19,
   "id": "a0bab073",
   "metadata": {},
   "outputs": [],
   "source": [
    "#selecting the necessary columns into df\n",
    "df = df[['subreddit','cleanmsg']]"
   ]
  },
  {
   "cell_type": "code",
   "execution_count": 20,
   "id": "ae69e213",
   "metadata": {},
   "outputs": [],
   "source": [
    "#save the cleaned df to csv\n",
    "df.to_csv('cleaned_subreddit.csv')"
   ]
  },
  {
   "cell_type": "markdown",
   "id": "84d92f43",
   "metadata": {},
   "source": [
    "# Converting our subreddit column:  \n",
    "\n",
    "Converting makeup/fragrance into binary labels    \n",
    "* 0 for fragrance  \n",
    "* 1 for makeup  "
   ]
  },
  {
   "cell_type": "code",
   "execution_count": 21,
   "id": "2fd7e45c",
   "metadata": {},
   "outputs": [
    {
     "data": {
      "text/html": [
       "<div>\n",
       "<style scoped>\n",
       "    .dataframe tbody tr th:only-of-type {\n",
       "        vertical-align: middle;\n",
       "    }\n",
       "\n",
       "    .dataframe tbody tr th {\n",
       "        vertical-align: top;\n",
       "    }\n",
       "\n",
       "    .dataframe thead th {\n",
       "        text-align: right;\n",
       "    }\n",
       "</style>\n",
       "<table border=\"1\" class=\"dataframe\">\n",
       "  <thead>\n",
       "    <tr style=\"text-align: right;\">\n",
       "      <th></th>\n",
       "      <th>subreddit</th>\n",
       "      <th>cleanmsg</th>\n",
       "    </tr>\n",
       "  </thead>\n",
       "  <tbody>\n",
       "    <tr>\n",
       "      <th>0</th>\n",
       "      <td>0</td>\n",
       "      <td>valentino uomo intense edphow many spray use d...</td>\n",
       "    </tr>\n",
       "    <tr>\n",
       "      <th>1</th>\n",
       "      <td>0</td>\n",
       "      <td>drybar noir scent obsessed smell drybar hair p...</td>\n",
       "    </tr>\n",
       "    <tr>\n",
       "      <th>2</th>\n",
       "      <td>0</td>\n",
       "      <td>longevity expect perfume perfume best longevit...</td>\n",
       "    </tr>\n",
       "    <tr>\n",
       "      <th>3</th>\n",
       "      <td>0</td>\n",
       "      <td>perfume reccomendations</td>\n",
       "    </tr>\n",
       "    <tr>\n",
       "      <th>4</th>\n",
       "      <td>0</td>\n",
       "      <td>wardrobe</td>\n",
       "    </tr>\n",
       "  </tbody>\n",
       "</table>\n",
       "</div>"
      ],
      "text/plain": [
       "   subreddit                                           cleanmsg\n",
       "0          0  valentino uomo intense edphow many spray use d...\n",
       "1          0  drybar noir scent obsessed smell drybar hair p...\n",
       "2          0  longevity expect perfume perfume best longevit...\n",
       "3          0                            perfume reccomendations\n",
       "4          0                                           wardrobe"
      ]
     },
     "execution_count": 21,
     "metadata": {},
     "output_type": "execute_result"
    }
   ],
   "source": [
    "df['subreddit'] = df['subreddit'].map({'fragrance':0,'Makeup':1})\n",
    "df.head()"
   ]
  },
  {
   "cell_type": "code",
   "execution_count": 22,
   "id": "7d3d0d21",
   "metadata": {},
   "outputs": [
    {
     "data": {
      "text/html": [
       "<div>\n",
       "<style scoped>\n",
       "    .dataframe tbody tr th:only-of-type {\n",
       "        vertical-align: middle;\n",
       "    }\n",
       "\n",
       "    .dataframe tbody tr th {\n",
       "        vertical-align: top;\n",
       "    }\n",
       "\n",
       "    .dataframe thead th {\n",
       "        text-align: right;\n",
       "    }\n",
       "</style>\n",
       "<table border=\"1\" class=\"dataframe\">\n",
       "  <thead>\n",
       "    <tr style=\"text-align: right;\">\n",
       "      <th></th>\n",
       "      <th>subreddit</th>\n",
       "      <th>cleanmsg</th>\n",
       "    </tr>\n",
       "  </thead>\n",
       "  <tbody>\n",
       "    <tr>\n",
       "      <th>1033</th>\n",
       "      <td>1</td>\n",
       "      <td>priming moisturizer combination oily skin dont...</td>\n",
       "    </tr>\n",
       "    <tr>\n",
       "      <th>1034</th>\n",
       "      <td>1</td>\n",
       "      <td>get dewy look foundation concealer context guy...</td>\n",
       "    </tr>\n",
       "    <tr>\n",
       "      <th>1035</th>\n",
       "      <td>1</td>\n",
       "      <td>stop face getting sweaty sometimes dripping wi...</td>\n",
       "    </tr>\n",
       "    <tr>\n",
       "      <th>1036</th>\n",
       "      <td>1</td>\n",
       "      <td>get good wing pretty new general believe certa...</td>\n",
       "    </tr>\n",
       "    <tr>\n",
       "      <th>1037</th>\n",
       "      <td>1</td>\n",
       "      <td>melt cosmetics liquid lipstick durability look...</td>\n",
       "    </tr>\n",
       "  </tbody>\n",
       "</table>\n",
       "</div>"
      ],
      "text/plain": [
       "      subreddit                                           cleanmsg\n",
       "1033          1  priming moisturizer combination oily skin dont...\n",
       "1034          1  get dewy look foundation concealer context guy...\n",
       "1035          1  stop face getting sweaty sometimes dripping wi...\n",
       "1036          1  get good wing pretty new general believe certa...\n",
       "1037          1  melt cosmetics liquid lipstick durability look..."
      ]
     },
     "execution_count": 22,
     "metadata": {},
     "output_type": "execute_result"
    }
   ],
   "source": [
    "#check the last 5 of df\n",
    "df.tail()"
   ]
  },
  {
   "cell_type": "code",
   "execution_count": 23,
   "id": "038c24c1",
   "metadata": {},
   "outputs": [
    {
     "data": {
      "text/plain": [
       "0    1086\n",
       "1    1038\n",
       "Name: subreddit, dtype: int64"
      ]
     },
     "execution_count": 23,
     "metadata": {},
     "output_type": "execute_result"
    }
   ],
   "source": [
    "df['subreddit'].value_counts()"
   ]
  },
  {
   "cell_type": "markdown",
   "id": "7d262dec",
   "metadata": {},
   "source": [
    "I did a value count to ensure there is no data imbalance. As we can see, the subreddits have similar number of data. Hence we are good to proceed with modelling.\n",
    "\n",
    "Imbalance data: example of a classification problem where the distribution of examples across the known classes is biased or skewed.\n",
    "\n",
    "* pose a challenge for predictive modeling as most of the machine learning algorithms used for classification were designed around the assumption of an equal number of examples for each class. \n",
    "* results in models that have poor predictive performance, specifically for the minority class.\n",
    "* the minority class is more important and therefore the problem is more sensitive to classification errors for the minority class than the majority class"
   ]
  },
  {
   "cell_type": "markdown",
   "id": "b4185a1f",
   "metadata": {},
   "source": [
    "# Modelling"
   ]
  },
  {
   "cell_type": "markdown",
   "id": "21c156aa",
   "metadata": {},
   "source": [
    "Cross-validation is a common method to evaluate the performance of a text classifier. It works by splitting the training dataset into random, equal-length example sets( in this care, we have 70% training set and 30% test set). For each set, a text classifier is trained with the remaining samples. Next, the classifiers make predictions on their respective sets, and the results are compared against the human-annotated tags. This will determine when a prediction was right (true positives and true negatives) and when it made a mistake (false positives, false negatives)."
   ]
  },
  {
   "cell_type": "code",
   "execution_count": 24,
   "id": "f917e47b",
   "metadata": {},
   "outputs": [],
   "source": [
    "X = df['cleanmsg']\n",
    "y = df['subreddit']"
   ]
  },
  {
   "cell_type": "code",
   "execution_count": 25,
   "id": "ca18f896",
   "metadata": {},
   "outputs": [
    {
     "data": {
      "text/plain": [
       "0    0.511299\n",
       "1    0.488701\n",
       "Name: subreddit, dtype: float64"
      ]
     },
     "execution_count": 25,
     "metadata": {},
     "output_type": "execute_result"
    }
   ],
   "source": [
    "#Confirm distribution of test data set between both Subreddits\n",
    "y.value_counts(normalize = True)"
   ]
  },
  {
   "cell_type": "markdown",
   "id": "b8d68779",
   "metadata": {},
   "source": [
    "BAseline score:"
   ]
  },
  {
   "cell_type": "code",
   "execution_count": 26,
   "id": "31749766",
   "metadata": {},
   "outputs": [],
   "source": [
    "#split the data into the training and testing sets with 70% training set\n",
    "\n",
    "X_train, X_test, y_train, y_test = train_test_split(X, y, test_size = 0.3, stratify=y, random_state = 42)"
   ]
  },
  {
   "cell_type": "code",
   "execution_count": 27,
   "id": "ae8ebc37",
   "metadata": {},
   "outputs": [
    {
     "name": "stdout",
     "output_type": "stream",
     "text": [
      "(1486,)\n",
      "(638,)\n",
      "(1486,)\n",
      "(638,)\n"
     ]
    }
   ],
   "source": [
    "print(X_train.shape)\n",
    "print(X_test.shape)\n",
    "print(y_train.shape)\n",
    "print(y_test.shape)"
   ]
  },
  {
   "cell_type": "markdown",
   "id": "44e8cfaf",
   "metadata": {},
   "source": [
    "# Baseline Model: RandomForestClassifier"
   ]
  },
  {
   "cell_type": "markdown",
   "id": "f4c4dded",
   "metadata": {},
   "source": [
    "#### RandomForestClassifier: \n",
    "\n",
    "A random forest is a meta estimator that fits a number of decision tree classifiers on various sub-samples of the dataset and uses averaging to improve the predictive accuracy and control over-fitting. The sub-sample size is controlled with the max_samples parameter if bootstrap=True (default), otherwise the whole dataset is used to build each tree.\n",
    "\n",
    "#### Count Vectorization\n",
    "It converts a collection of text documents to a matrix of token counts. \n",
    "\n",
    "#### Pipeline\n",
    "I am using a pipeline with CountVectorizer & RandomForest Classifier in order to search through a few parameters that I have picked so that I am able to get a better results from a series of parameters.\n",
    "\n",
    "For count vectorization, the parameters that I will be searching through are:\n",
    "\n",
    "* stop_words: {‘english’} or none. However, I have already dropped certain words earlier that I do not want to include in modelling. \n",
    "* min_df : minimum number of documents needed to include tokens: 2,3\n",
    "* max_df: If a word occurs in more than 0.9 or 0.95, it will get removed.\n",
    "* n_gram_range: For example an ngram_range of (1, 1) means only unigrams, (1, 2) means unigrams and bigrams, and (2, 3) means bigrams and trigram.\n",
    "* n_estimators: number of trees in a forest\n",
    "* max_depth:The maximum depth of the tree. If None, then nodes are expanded until all leaves are pure or until all leaves contain less than min_samples_split samples. I have decided to try a total of 7 variables as I do not wish for my classifier to take too long to get results.  \n",
    "\n",
    "#### Scoring\n",
    "* AUC & Accuracy is used. There are many other scoring metrics that can be used such as recall, precision and F1. But I have decided to just use 2 metrics as the problem statement is to classify the reddit post to its proper subreddit category.Also, since my data is balanced and weighing the objective of the project, I can safely rely on accuracy score. Hence, I believe that these 2 metrics are sufficient to tell us if our end results are good and the objective has been met. \n",
    "\n",
    "* AUC: The Area Under the Curve (AUC) is the measure of the ability of a classifier to distinguish between classes and is used as a summary of the ROC curve. The higher the AUC, the better the performance of the model at distinguishing between the positive and negative classes. if the AUC is closer to 1, it means that the performance of the model is more accurate at distinguishing between the positive and negative classes.\n",
    "\n",
    "* Accuracy: Accuracy represents the number of correctly classified data instances over the total number of data instances."
   ]
  },
  {
   "cell_type": "code",
   "execution_count": 28,
   "id": "bf898454",
   "metadata": {},
   "outputs": [],
   "source": [
    "pipe  = Pipeline([\n",
    "    ('cvec', CountVectorizer()),\n",
    "    ('rf', RandomForestClassifier(random_state=42))])"
   ]
  },
  {
   "cell_type": "code",
   "execution_count": 29,
   "id": "b6441dea",
   "metadata": {},
   "outputs": [],
   "source": [
    "pipe_params = {\n",
    "    'cvec__max_features': [800, 900, 1_000],\n",
    "    'cvec__stop_words': [None, \"english\"],\n",
    "    'cvec__min_df': [2, 3],\n",
    "    'cvec__max_df': [.9, .95],\n",
    "    'cvec__ngram_range': [(1, 1),(1, 2),(2,3)],\n",
    "    'rf__n_jobs': [-1],\n",
    "    'rf__n_estimators': [100,150,200],\n",
    "    'rf__max_depth': [None, 1, 2, 3, 4, 5, 6],\n",
    "}\n"
   ]
  },
  {
   "cell_type": "code",
   "execution_count": 30,
   "id": "7bee0f2d",
   "metadata": {},
   "outputs": [],
   "source": [
    "scorers = {'AUC': 'roc_auc', 'Accuracy': make_scorer(accuracy_score)}"
   ]
  },
  {
   "cell_type": "code",
   "execution_count": 31,
   "id": "8254a876",
   "metadata": {},
   "outputs": [],
   "source": [
    "from datetime import datetime\n",
    "start_time = datetime.now()"
   ]
  },
  {
   "cell_type": "code",
   "execution_count": 32,
   "id": "5c50fe6f",
   "metadata": {},
   "outputs": [],
   "source": [
    "# instantiate GridSeachCV\n",
    "gs = GridSearchCV(pipe, param_grid = pipe_params, cv = 3, scoring = scorers, n_jobs = -1, refit = 'AUC') "
   ]
  },
  {
   "cell_type": "code",
   "execution_count": 33,
   "id": "e6366130",
   "metadata": {},
   "outputs": [
    {
     "data": {
      "text/plain": [
       "GridSearchCV(cv=3,\n",
       "             estimator=Pipeline(steps=[('cvec', CountVectorizer()),\n",
       "                                       ('rf',\n",
       "                                        RandomForestClassifier(random_state=42))]),\n",
       "             n_jobs=-1,\n",
       "             param_grid={'cvec__max_df': [0.9, 0.95],\n",
       "                         'cvec__max_features': [800, 900, 1000],\n",
       "                         'cvec__min_df': [2, 3],\n",
       "                         'cvec__ngram_range': [(1, 1), (1, 2), (2, 3)],\n",
       "                         'cvec__stop_words': [None, 'english'],\n",
       "                         'rf__max_depth': [None, 1, 2, 3, 4, 5, 6],\n",
       "                         'rf__n_estimators': [100, 150, 200],\n",
       "                         'rf__n_jobs': [-1]},\n",
       "             refit='AUC',\n",
       "             scoring={'AUC': 'roc_auc',\n",
       "                      'Accuracy': make_scorer(accuracy_score)})"
      ]
     },
     "execution_count": 33,
     "metadata": {},
     "output_type": "execute_result"
    }
   ],
   "source": [
    "# fit grid search to training data\n",
    "gs.fit(X_train, y_train)"
   ]
  },
  {
   "cell_type": "code",
   "execution_count": 34,
   "id": "365ec2e9",
   "metadata": {},
   "outputs": [
    {
     "name": "stdout",
     "output_type": "stream",
     "text": [
      "Duration: 0:14:30.865785\n"
     ]
    }
   ],
   "source": [
    "end_time = datetime.now()\n",
    "print('Duration: {}'.format(end_time - start_time))"
   ]
  },
  {
   "cell_type": "code",
   "execution_count": 35,
   "id": "e3aca76a",
   "metadata": {},
   "outputs": [
    {
     "name": "stdout",
     "output_type": "stream",
     "text": [
      "0.9800560343833479\n"
     ]
    }
   ],
   "source": [
    "#print the best score for CV = 3\n",
    "print(gs.best_score_)"
   ]
  },
  {
   "cell_type": "code",
   "execution_count": 36,
   "id": "3b6ad78d",
   "metadata": {},
   "outputs": [
    {
     "data": {
      "text/plain": [
       "0.9870885892416993"
      ]
     },
     "execution_count": 36,
     "metadata": {},
     "output_type": "execute_result"
    }
   ],
   "source": [
    "#model score on training set\n",
    "gs.score(X_train, y_train)"
   ]
  },
  {
   "cell_type": "code",
   "execution_count": 37,
   "id": "9e8ead6d",
   "metadata": {},
   "outputs": [
    {
     "data": {
      "text/plain": [
       "0.9767579046720151"
      ]
     },
     "execution_count": 37,
     "metadata": {},
     "output_type": "execute_result"
    }
   ],
   "source": [
    "#score model on test set\n",
    "gs.score(X_test, y_test)"
   ]
  },
  {
   "cell_type": "code",
   "execution_count": 38,
   "id": "c9052373",
   "metadata": {},
   "outputs": [
    {
     "data": {
      "text/plain": [
       "{'cvec__max_df': 0.9,\n",
       " 'cvec__max_features': 1000,\n",
       " 'cvec__min_df': 3,\n",
       " 'cvec__ngram_range': (1, 1),\n",
       " 'cvec__stop_words': 'english',\n",
       " 'rf__max_depth': 6,\n",
       " 'rf__n_estimators': 200,\n",
       " 'rf__n_jobs': -1}"
      ]
     },
     "execution_count": 38,
     "metadata": {},
     "output_type": "execute_result"
    }
   ],
   "source": [
    "#get the best params\n",
    "gs.best_params_"
   ]
  },
  {
   "cell_type": "code",
   "execution_count": 39,
   "id": "f4bfc977",
   "metadata": {},
   "outputs": [],
   "source": [
    "#get predictions\n",
    "preds = gs.predict(X_test)\n",
    "\n",
    "#save confusion matrix values\n",
    "tn, fp, fn, tp = confusion_matrix(y_test, preds).ravel()"
   ]
  },
  {
   "cell_type": "code",
   "execution_count": 40,
   "id": "a6873220",
   "metadata": {
    "scrolled": true
   },
   "outputs": [
    {
     "data": {
      "image/png": "[encoded data removed]",
      "text/plain": [
       "<Figure size 432x288 with 2 Axes>"
      ]
     },
     "metadata": {
      "needs_background": "light"
     },
     "output_type": "display_data"
    }
   ],
   "source": [
    "# View confusion matrix\n",
    "plot_confusion_matrix(gs, X_test, y_test, cmap='PuRd', values_format='d');"
   ]
  },
  {
   "cell_type": "markdown",
   "id": "0e96b838",
   "metadata": {},
   "source": [
    "Specificity (SP) is calculated as the number of correct negative predictions divided by the total number of negatives. It is also called true negative rate (TNR). The best specificity is 1.0, whereas the worst is 0.0."
   ]
  },
  {
   "cell_type": "code",
   "execution_count": 41,
   "id": "eabbb7be",
   "metadata": {},
   "outputs": [
    {
     "name": "stdout",
     "output_type": "stream",
     "text": [
      "Specificity: 0.9785276073619632\n"
     ]
    }
   ],
   "source": [
    "# Calculate the specificity\n",
    "\n",
    "spec = tn / (tn + fp)\n",
    "\n",
    "print('Specificity:', spec)"
   ]
  },
  {
   "cell_type": "markdown",
   "id": "68a8b13a",
   "metadata": {},
   "source": [
    "Recall is also known as sensitivity or true positive rate. Recall should ideally be 1 (high) for a good classifier. Recall becomes 1 only when the numerator and denominator are equal i.e TP = TP +FN, this also means FN is zero. As FN increases the value of denominator becomes greater than the numerator and recall value decreases (which we don’t want)."
   ]
  },
  {
   "cell_type": "code",
   "execution_count": 42,
   "id": "27cb9b08",
   "metadata": {},
   "outputs": [
    {
     "name": "stdout",
     "output_type": "stream",
     "text": [
      "Recall: 0.7916666666666666\n"
     ]
    }
   ],
   "source": [
    "# Calculate the recall\n",
    "\n",
    "recall_rf = tp / (tp + fn)\n",
    "\n",
    "print('Recall:', recall_rf)"
   ]
  },
  {
   "cell_type": "code",
   "execution_count": 43,
   "id": "9ac4e6f8",
   "metadata": {},
   "outputs": [],
   "source": [
    "#RandomForest AUC/Accuracy Score\n",
    "rf_auc_train = gs.score(X_train,y_train)\n",
    "rf_auc_test = gs.score(X_test,y_test)\n",
    "rf_acc_train = accuracy_score(gs.predict(X_train),y_train)\n",
    "rf_acc_test = accuracy_score(gs.predict(X_test),y_test)"
   ]
  },
  {
   "cell_type": "code",
   "execution_count": 44,
   "id": "6142119d",
   "metadata": {
    "scrolled": true
   },
   "outputs": [
    {
     "name": "stdout",
     "output_type": "stream",
     "text": [
      "RandomForest AUC train score 0.9870885892416993\n",
      "RandomForest AUC test score 0.9767579046720151\n",
      "RandomForest Accuracy train score 0.905114401076716\n",
      "RandomForest Accuracy test score 0.8871473354231975\n"
     ]
    }
   ],
   "source": [
    "print(f'RandomForest AUC train score {rf_auc_train}')\n",
    "print(f'RandomForest AUC test score {rf_auc_test}')\n",
    "print(f'RandomForest Accuracy train score {rf_acc_train}')\n",
    "print(f'RandomForest Accuracy test score {rf_acc_test}')"
   ]
  },
  {
   "cell_type": "markdown",
   "id": "0359c117",
   "metadata": {},
   "source": [
    "#### Feature Ranking\n"
   ]
  },
  {
   "cell_type": "code",
   "execution_count": 45,
   "id": "19a51af7",
   "metadata": {},
   "outputs": [],
   "source": [
    "feature_names = pd.DataFrame(gs.best_estimator_.named_steps.cvec.get_feature_names(), columns=['feature_name'])"
   ]
  },
  {
   "cell_type": "code",
   "execution_count": 46,
   "id": "72174dba",
   "metadata": {},
   "outputs": [],
   "source": [
    "feature_names['importance'] = gs.best_estimator_.named_steps.rf.feature_importances_"
   ]
  },
  {
   "cell_type": "code",
   "execution_count": 47,
   "id": "10e1b98e",
   "metadata": {},
   "outputs": [
    {
     "data": {
      "text/html": [
       "<div>\n",
       "<style scoped>\n",
       "    .dataframe tbody tr th:only-of-type {\n",
       "        vertical-align: middle;\n",
       "    }\n",
       "\n",
       "    .dataframe tbody tr th {\n",
       "        vertical-align: top;\n",
       "    }\n",
       "\n",
       "    .dataframe thead th {\n",
       "        text-align: right;\n",
       "    }\n",
       "</style>\n",
       "<table border=\"1\" class=\"dataframe\">\n",
       "  <thead>\n",
       "    <tr style=\"text-align: right;\">\n",
       "      <th></th>\n",
       "      <th>feature_name</th>\n",
       "      <th>importance</th>\n",
       "    </tr>\n",
       "  </thead>\n",
       "  <tbody>\n",
       "    <tr>\n",
       "      <th>0</th>\n",
       "      <td>able</td>\n",
       "      <td>0.000192</td>\n",
       "    </tr>\n",
       "    <tr>\n",
       "      <th>1</th>\n",
       "      <td>absolute</td>\n",
       "      <td>0.000151</td>\n",
       "    </tr>\n",
       "    <tr>\n",
       "      <th>2</th>\n",
       "      <td>absolutely</td>\n",
       "      <td>0.000098</td>\n",
       "    </tr>\n",
       "    <tr>\n",
       "      <th>3</th>\n",
       "      <td>accord</td>\n",
       "      <td>0.000210</td>\n",
       "    </tr>\n",
       "    <tr>\n",
       "      <th>4</th>\n",
       "      <td>acne</td>\n",
       "      <td>0.001370</td>\n",
       "    </tr>\n",
       "    <tr>\n",
       "      <th>...</th>\n",
       "      <td>...</td>\n",
       "      <td>...</td>\n",
       "    </tr>\n",
       "    <tr>\n",
       "      <th>995</th>\n",
       "      <td>yesterday</td>\n",
       "      <td>0.000084</td>\n",
       "    </tr>\n",
       "    <tr>\n",
       "      <th>996</th>\n",
       "      <td>ylang</td>\n",
       "      <td>0.000000</td>\n",
       "    </tr>\n",
       "    <tr>\n",
       "      <th>997</th>\n",
       "      <td>youtube</td>\n",
       "      <td>0.000000</td>\n",
       "    </tr>\n",
       "    <tr>\n",
       "      <th>998</th>\n",
       "      <td>ysl</td>\n",
       "      <td>0.001188</td>\n",
       "    </tr>\n",
       "    <tr>\n",
       "      <th>999</th>\n",
       "      <td>zoologist</td>\n",
       "      <td>0.000000</td>\n",
       "    </tr>\n",
       "  </tbody>\n",
       "</table>\n",
       "<p>1000 rows × 2 columns</p>\n",
       "</div>"
      ],
      "text/plain": [
       "    feature_name  importance\n",
       "0           able    0.000192\n",
       "1       absolute    0.000151\n",
       "2     absolutely    0.000098\n",
       "3         accord    0.000210\n",
       "4           acne    0.001370\n",
       "..           ...         ...\n",
       "995    yesterday    0.000084\n",
       "996        ylang    0.000000\n",
       "997      youtube    0.000000\n",
       "998          ysl    0.001188\n",
       "999    zoologist    0.000000\n",
       "\n",
       "[1000 rows x 2 columns]"
      ]
     },
     "execution_count": 47,
     "metadata": {},
     "output_type": "execute_result"
    }
   ],
   "source": [
    "feature_names"
   ]
  },
  {
   "cell_type": "code",
   "execution_count": 48,
   "id": "07b21ed2",
   "metadata": {},
   "outputs": [
    {
     "data": {
      "text/html": [
       "<div>\n",
       "<style scoped>\n",
       "    .dataframe tbody tr th:only-of-type {\n",
       "        vertical-align: middle;\n",
       "    }\n",
       "\n",
       "    .dataframe tbody tr th {\n",
       "        vertical-align: top;\n",
       "    }\n",
       "\n",
       "    .dataframe thead th {\n",
       "        text-align: right;\n",
       "    }\n",
       "</style>\n",
       "<table border=\"1\" class=\"dataframe\">\n",
       "  <thead>\n",
       "    <tr style=\"text-align: right;\">\n",
       "      <th></th>\n",
       "      <th>feature_name</th>\n",
       "      <th>importance</th>\n",
       "    </tr>\n",
       "  </thead>\n",
       "  <tbody>\n",
       "    <tr>\n",
       "      <th>499</th>\n",
       "      <td>look</td>\n",
       "      <td>0.052755</td>\n",
       "    </tr>\n",
       "    <tr>\n",
       "      <th>802</th>\n",
       "      <td>smell</td>\n",
       "      <td>0.052458</td>\n",
       "    </tr>\n",
       "    <tr>\n",
       "      <th>278</th>\n",
       "      <td>eye</td>\n",
       "      <td>0.050817</td>\n",
       "    </tr>\n",
       "    <tr>\n",
       "      <th>326</th>\n",
       "      <td>foundation</td>\n",
       "      <td>0.048673</td>\n",
       "    </tr>\n",
       "    <tr>\n",
       "      <th>631</th>\n",
       "      <td>perfume</td>\n",
       "      <td>0.046217</td>\n",
       "    </tr>\n",
       "    <tr>\n",
       "      <th>757</th>\n",
       "      <td>scent</td>\n",
       "      <td>0.033975</td>\n",
       "    </tr>\n",
       "    <tr>\n",
       "      <th>93</th>\n",
       "      <td>bottle</td>\n",
       "      <td>0.029006</td>\n",
       "    </tr>\n",
       "    <tr>\n",
       "      <th>283</th>\n",
       "      <td>eyeshadow</td>\n",
       "      <td>0.027349</td>\n",
       "    </tr>\n",
       "    <tr>\n",
       "      <th>284</th>\n",
       "      <td>face</td>\n",
       "      <td>0.026310</td>\n",
       "    </tr>\n",
       "    <tr>\n",
       "      <th>174</th>\n",
       "      <td>concealer</td>\n",
       "      <td>0.026024</td>\n",
       "    </tr>\n",
       "  </tbody>\n",
       "</table>\n",
       "</div>"
      ],
      "text/plain": [
       "    feature_name  importance\n",
       "499         look    0.052755\n",
       "802        smell    0.052458\n",
       "278          eye    0.050817\n",
       "326   foundation    0.048673\n",
       "631      perfume    0.046217\n",
       "757        scent    0.033975\n",
       "93        bottle    0.029006\n",
       "283    eyeshadow    0.027349\n",
       "284         face    0.026310\n",
       "174    concealer    0.026024"
      ]
     },
     "execution_count": 48,
     "metadata": {},
     "output_type": "execute_result"
    }
   ],
   "source": [
    "feature_names.sort_values(by=\"importance\",ascending=False)[:10]"
   ]
  },
  {
   "cell_type": "markdown",
   "id": "2dd0fd45",
   "metadata": {},
   "source": [
    "# Naive Bayes"
   ]
  },
  {
   "cell_type": "markdown",
   "id": "3854f178",
   "metadata": {},
   "source": [
    "Naive Bayes is a family of probabilistic algorithms that take advantage of probability theory and Bayes’ Theorem to predict the tag of a text (like a piece of news or a customer review). They are probabilistic, which means that they calculate the probability of each tag for a given text, and then output the tag with the highest one. The way they get these probabilities is by using Bayes’ Theorem, which describes the probability of a feature, based on prior knowledge of conditions that might be related to that feature."
   ]
  },
  {
   "cell_type": "code",
   "execution_count": 49,
   "id": "4aa1b0aa",
   "metadata": {},
   "outputs": [
    {
     "data": {
      "text/plain": [
       "{'alpha': 1.0, 'class_prior': None, 'fit_prior': True}"
      ]
     },
     "execution_count": 49,
     "metadata": {},
     "output_type": "execute_result"
    }
   ],
   "source": [
    "MultinomialNB().get_params()"
   ]
  },
  {
   "cell_type": "code",
   "execution_count": 50,
   "id": "65ed1c89",
   "metadata": {},
   "outputs": [],
   "source": [
    "#Creating Pipeline for Naive Bayes Model\n",
    "pipe2 = Pipeline([(\"vec\", None), (\"model\", MultinomialNB())])\n",
    "\n",
    "param_grid2 = {\"vec\": [CountVectorizer(), TfidfVectorizer()],\n",
    "              'vec__max_features': [800, 900, 1_000],\n",
    "              'vec__stop_words': [None, \"english\"],\n",
    "              'vec__min_df': [2, 3],\n",
    "              'vec__max_df': [.9, .95],\n",
    "              'vec__ngram_range': [(1, 1),(1, 2),(2,3)],     \n",
    "             }\n",
    "\n",
    "#gs = GridSearchCV(pipe_tvec, param_grid = pipe_tvec_params, cv=5) \n",
    "scorers = {'AUC': 'roc_auc', 'Accuracy': make_scorer(accuracy_score)}\n",
    "\n",
    "gs_nb = GridSearchCV(pipe2, param_grid2,cv = 3, scoring = scorers,refit = 'AUC')"
   ]
  },
  {
   "cell_type": "code",
   "execution_count": 51,
   "id": "f40ab8c2",
   "metadata": {},
   "outputs": [],
   "source": [
    "start_time = datetime.now()"
   ]
  },
  {
   "cell_type": "code",
   "execution_count": 52,
   "id": "e97dbcc2",
   "metadata": {},
   "outputs": [
    {
     "data": {
      "text/plain": [
       "GridSearchCV(cv=3,\n",
       "             estimator=Pipeline(steps=[('vec', None),\n",
       "                                       ('model', MultinomialNB())]),\n",
       "             param_grid={'vec': [CountVectorizer(max_df=0.9, max_features=1000,\n",
       "                                                 min_df=3,\n",
       "                                                 stop_words='english'),\n",
       "                                 TfidfVectorizer()],\n",
       "                         'vec__max_df': [0.9, 0.95],\n",
       "                         'vec__max_features': [800, 900, 1000],\n",
       "                         'vec__min_df': [2, 3],\n",
       "                         'vec__ngram_range': [(1, 1), (1, 2), (2, 3)],\n",
       "                         'vec__stop_words': [None, 'english']},\n",
       "             refit='AUC',\n",
       "             scoring={'AUC': 'roc_auc',\n",
       "                      'Accuracy': make_scorer(accuracy_score)})"
      ]
     },
     "execution_count": 52,
     "metadata": {},
     "output_type": "execute_result"
    }
   ],
   "source": [
    "#Fitting Pipeline into GridSearchCV\n",
    "gs_nb.fit(X_train, y_train)"
   ]
  },
  {
   "cell_type": "code",
   "execution_count": 53,
   "id": "915f7fb8",
   "metadata": {},
   "outputs": [
    {
     "name": "stdout",
     "output_type": "stream",
     "text": [
      "Duration: 0:01:23.151603\n"
     ]
    }
   ],
   "source": [
    "end_time = datetime.now()\n",
    "print('Duration: {}'.format(end_time - start_time))"
   ]
  },
  {
   "cell_type": "code",
   "execution_count": 54,
   "id": "33d5218d",
   "metadata": {},
   "outputs": [
    {
     "name": "stdout",
     "output_type": "stream",
     "text": [
      "0.9910869247989872\n"
     ]
    }
   ],
   "source": [
    "#print the best score for CV = 3\n",
    "print(gs_nb.best_score_)"
   ]
  },
  {
   "cell_type": "code",
   "execution_count": 55,
   "id": "d70578de",
   "metadata": {},
   "outputs": [
    {
     "name": "stdout",
     "output_type": "stream",
     "text": [
      "0.9910869247989872\n"
     ]
    }
   ],
   "source": [
    "print(gs_nb.best_score_)"
   ]
  },
  {
   "cell_type": "code",
   "execution_count": 56,
   "id": "97fc9fa8",
   "metadata": {},
   "outputs": [
    {
     "data": {
      "text/plain": [
       "0.9941976584022039"
      ]
     },
     "execution_count": 56,
     "metadata": {},
     "output_type": "execute_result"
    }
   ],
   "source": [
    "#model score on training set\n",
    "gs_nb.score(X_train, y_train)"
   ]
  },
  {
   "cell_type": "code",
   "execution_count": 57,
   "id": "c8a964b9",
   "metadata": {},
   "outputs": [
    {
     "data": {
      "text/plain": [
       "0.9891409076608463"
      ]
     },
     "execution_count": 57,
     "metadata": {},
     "output_type": "execute_result"
    }
   ],
   "source": [
    "#score model on test set\n",
    "gs_nb.score(X_test, y_test)"
   ]
  },
  {
   "cell_type": "code",
   "execution_count": 58,
   "id": "f07cc57f",
   "metadata": {},
   "outputs": [
    {
     "data": {
      "text/plain": [
       "{'vec': CountVectorizer(max_df=0.9, max_features=1000, min_df=3, stop_words='english'),\n",
       " 'vec__max_df': 0.9,\n",
       " 'vec__max_features': 1000,\n",
       " 'vec__min_df': 3,\n",
       " 'vec__ngram_range': (1, 1),\n",
       " 'vec__stop_words': 'english'}"
      ]
     },
     "execution_count": 58,
     "metadata": {},
     "output_type": "execute_result"
    }
   ],
   "source": [
    "#get the best params\n",
    "gs_nb.best_params_"
   ]
  },
  {
   "cell_type": "code",
   "execution_count": 59,
   "id": "c71d8f48",
   "metadata": {},
   "outputs": [],
   "source": [
    "#get predictions\n",
    "preds2 = gs_nb.predict(X_test)\n",
    "\n",
    "#save confusion matrix values\n",
    "tn, fp, fn, tp = confusion_matrix(y_test, preds2).ravel()"
   ]
  },
  {
   "cell_type": "code",
   "execution_count": 60,
   "id": "eafc8bbc",
   "metadata": {},
   "outputs": [
    {
     "data": {
      "image/png": "[encoded data removed]",
      "text/plain": [
       "<Figure size 432x288 with 2 Axes>"
      ]
     },
     "metadata": {
      "needs_background": "light"
     },
     "output_type": "display_data"
    }
   ],
   "source": [
    "# View confusion matrix\n",
    "plot_confusion_matrix(gs_nb, X_test, y_test, cmap='PuRd', values_format='d');"
   ]
  },
  {
   "cell_type": "markdown",
   "id": "27b09327",
   "metadata": {},
   "source": [
    "Specificity (SP) is calculated as the number of correct negative predictions divided by the total number of negatives. It is also called true negative rate (TNR). The best specificity is 1.0, whereas the worst is 0.0."
   ]
  },
  {
   "cell_type": "code",
   "execution_count": 61,
   "id": "cb45a6b7",
   "metadata": {},
   "outputs": [
    {
     "name": "stdout",
     "output_type": "stream",
     "text": [
      "Specificity: 0.9233128834355828\n"
     ]
    }
   ],
   "source": [
    "# Calculate the specificity\n",
    "\n",
    "spec_nb = tn / (tn + fp)\n",
    "\n",
    "print('Specificity:', spec_nb)"
   ]
  },
  {
   "cell_type": "markdown",
   "id": "81ccf2d0",
   "metadata": {},
   "source": [
    "Recall is also known as sensitivity or true positive rate. Recall should ideally be 1 (high) for a good classifier. Recall becomes 1 only when the numerator and denominator are equal i.e TP = TP +FN, this also means FN is zero. As FN increases the value of denominator becomes greater than the numerator and recall value decreases (which we don’t want)."
   ]
  },
  {
   "cell_type": "code",
   "execution_count": 62,
   "id": "25624e6d",
   "metadata": {},
   "outputs": [
    {
     "name": "stdout",
     "output_type": "stream",
     "text": [
      "Recall: 0.9423076923076923\n"
     ]
    }
   ],
   "source": [
    "# Calculate the recall\n",
    "\n",
    "recall_nb = tp / (tp + fn)\n",
    "\n",
    "print('Recall:', recall_nb)"
   ]
  },
  {
   "cell_type": "code",
   "execution_count": 63,
   "id": "77f5f55f",
   "metadata": {},
   "outputs": [],
   "source": [
    "# AUC/Accuracy Score\n",
    "aucnb_train = gs_nb.score(X_train,y_train)\n",
    "aucnb_test = gs_nb.score(X_test,y_test)\n",
    "accnb_train = accuracy_score(gs_nb.predict(X_train),y_train)\n",
    "accnb_test = accuracy_score(gs_nb.predict(X_test),y_test)"
   ]
  },
  {
   "cell_type": "code",
   "execution_count": 64,
   "id": "e9b2e9f5",
   "metadata": {},
   "outputs": [
    {
     "name": "stdout",
     "output_type": "stream",
     "text": [
      "Naive Bayes AUC train score 0.9941976584022039\n",
      "Naive Bayes AUC test score 0.9891409076608463\n",
      "Naive Bayes Accuracy train score 0.9535666218034994\n",
      "Naive Bayes Accuracy test score 0.932601880877743\n"
     ]
    }
   ],
   "source": [
    "print(f'Naive Bayes AUC train score {aucnb_train}')\n",
    "print(f'Naive Bayes AUC test score {aucnb_test}')\n",
    "print(f'Naive Bayes Accuracy train score {accnb_train}')\n",
    "print(f'Naive Bayes Accuracy test score {accnb_test}')"
   ]
  },
  {
   "cell_type": "markdown",
   "id": "af1b8c39",
   "metadata": {},
   "source": [
    "# Scores "
   ]
  },
  {
   "cell_type": "code",
   "execution_count": 65,
   "id": "4c56ff77",
   "metadata": {},
   "outputs": [
    {
     "name": "stdout",
     "output_type": "stream",
     "text": [
      "Naive Bayes AUC train score 0.9941976584022039\n",
      "Naive Bayes AUC test score 0.9891409076608463\n",
      "Naive Bayes Accuracy train score 0.9535666218034994\n",
      "Naive Bayes Accuracy test score 0.932601880877743\n",
      "Naive Bayes Specificity 0.9233128834355828\n",
      "Naive Bayes Recall 0.9423076923076923\n",
      "----------------------------------------------\n",
      "\n",
      "RandomForest AUC train score 0.9870885892416993\n",
      "RandomForest AUC test score 0.9767579046720151\n",
      "RandomForest Accuracy train score 0.905114401076716\n",
      "RandomForest Accuracy test score 0.8871473354231975\n",
      "RandomForest Specificity 0.9785276073619632\n",
      "RandomForest Recall 0.7916666666666666\n",
      "----------------------------------------------\n"
     ]
    }
   ],
   "source": [
    "print(f'Naive Bayes AUC train score {aucnb_train}')\n",
    "print(f'Naive Bayes AUC test score {aucnb_test}')\n",
    "print(f'Naive Bayes Accuracy train score {accnb_train}')\n",
    "print(f'Naive Bayes Accuracy test score {accnb_test}')\n",
    "print(f'Naive Bayes Specificity {spec_nb}')\n",
    "print(f'Naive Bayes Recall {recall_nb}')\n",
    "print('----------------------------------------------')\n",
    "print('')\n",
    "print(f'RandomForest AUC train score {rf_auc_train}')\n",
    "print(f'RandomForest AUC test score {rf_auc_test}')\n",
    "print(f'RandomForest Accuracy train score {rf_acc_train}')\n",
    "print(f'RandomForest Accuracy test score {rf_acc_test}')\n",
    "print(f'RandomForest Specificity {spec}')\n",
    "print(f'RandomForest Recall {recall_rf}')\n",
    "print('----------------------------------------------')\n"
   ]
  },
  {
   "cell_type": "code",
   "execution_count": 68,
   "id": "654403e6",
   "metadata": {},
   "outputs": [
    {
     "name": "stdout",
     "output_type": "stream",
     "text": [
      "Diff in NB AUC score 0.005056750741357585\n",
      "Diff in NB accuracy score 0.020964740925756398\n",
      "----------------------------------------------\n",
      "\n",
      "Diff in RF AUC score 0.010330684569684223\n",
      "Diff in RF accuracy score 0.017967065653518577\n"
     ]
    }
   ],
   "source": [
    "print(f'Diff in NB AUC score {aucnb_train - aucnb_test }')\n",
    "print(f'Diff in NB accuracy score {accnb_train - accnb_test }')\n",
    "print('----------------------------------------------')\n",
    "print('')\n",
    "print(f'Diff in RF AUC score {rf_auc_train - rf_auc_test }')\n",
    "print(f'Diff in RF accuracy score {rf_acc_train - rf_acc_test }')"
   ]
  },
  {
   "cell_type": "markdown",
   "id": "30b372a0",
   "metadata": {},
   "source": [
    "# Conclusion, Recommendation"
   ]
  },
  {
   "cell_type": "markdown",
   "id": "54e5dcc8",
   "metadata": {},
   "source": [
    "####  Both models are able to classify which subreddit a post has been given to.\n",
    "    \n",
    "           \n",
    "####  Best model recommendation: Naive Bayes        \n",
    "     \n",
    "    * difference between the test/training AUC score and accuracy score is less than 0.01 \n",
    "    * AUC score and accuracy score is also the highest\n",
    "    * Lower false negative and false positive\n",
    "    * Higher Recall(True Positive rate)   \n",
    "         \n",
    "         \n",
    "####  Best Parameters for NB:\n",
    "'vec': CountVectorizer(max_df=0.9,  \n",
    " max_features=1000,   \n",
    " min_df=3, stop_words='english'),  \n",
    "'vec__max_df': 0.9,  \n",
    "'vec__max_features': 1000,  \n",
    "'vec__min_df': 3,  \n",
    "'vec__ngram_range': (1, 1),  \n",
    "'vec__stop_words': 'english'}   \n",
    "      \n",
    "#### Future Steps:\n",
    "* Explore with other different models\n",
    "* Select features that are important and see if it can give a better results\n",
    "* Explore more with hyperparameter tuning\n",
    "       \n",
    "    \n",
    "\n"
   ]
  }
 ],
 "metadata": {
  "kernelspec": {
   "display_name": "Python 3",
   "language": "python",
   "name": "python3"
  },
  "language_info": {
   "codemirror_mode": {
    "name": "ipython",
    "version": 3
   },
   "file_extension": ".py",
   "mimetype": "text/x-python",
   "name": "python",
   "nbconvert_exporter": "python",
   "pygments_lexer": "ipython3",
   "version": "3.8.8"
  }
 },
 "nbformat": 4,
 "nbformat_minor": 5
}
